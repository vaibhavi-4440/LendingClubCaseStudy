{
 "cells": [
  {
   "cell_type": "code",
   "execution_count": 2,
   "id": "443164c5-c347-4575-be0b-ce0ac8be5a83",
   "metadata": {},
   "outputs": [],
   "source": [
    "# Import the necessary Python libraries\n",
    "\n",
    "import pandas as pd\n",
    "import numpy as np\n",
    "import matplotlib.pyplot as plt\n",
    "import seaborn as sea  # Optional for better styling\n",
    "import datetime as dt\n",
    "import seaborn as sns\n",
    "import warnings\n",
    "warnings.filterwarnings('ignore')"
   ]
  },
  {
   "cell_type": "code",
   "execution_count": 3,
   "id": "f69ff20e-b32e-496e-8a4e-b8c85b26a934",
   "metadata": {},
   "outputs": [],
   "source": [
    "# Read the given Loan data and loading into a Loan dataframe\n",
    "Loan_df = pd.read_csv(r'C:\\Users\\vwarke\\OneDrive - Microsoft\\Desktop\\loan.csv')"
   ]
  },
  {
   "cell_type": "code",
   "execution_count": 4,
   "id": "f9204003-0334-41f0-a656-3781071d2ac7",
   "metadata": {},
   "outputs": [
    {
     "data": {
      "text/html": [
       "<div>\n",
       "<style scoped>\n",
       "    .dataframe tbody tr th:only-of-type {\n",
       "        vertical-align: middle;\n",
       "    }\n",
       "\n",
       "    .dataframe tbody tr th {\n",
       "        vertical-align: top;\n",
       "    }\n",
       "\n",
       "    .dataframe thead th {\n",
       "        text-align: right;\n",
       "    }\n",
       "</style>\n",
       "<table border=\"1\" class=\"dataframe\">\n",
       "  <thead>\n",
       "    <tr style=\"text-align: right;\">\n",
       "      <th></th>\n",
       "      <th>id</th>\n",
       "      <th>member_id</th>\n",
       "      <th>loan_amnt</th>\n",
       "      <th>funded_amnt</th>\n",
       "      <th>funded_amnt_inv</th>\n",
       "      <th>term</th>\n",
       "      <th>int_rate</th>\n",
       "      <th>installment</th>\n",
       "      <th>grade</th>\n",
       "      <th>sub_grade</th>\n",
       "      <th>...</th>\n",
       "      <th>num_tl_90g_dpd_24m</th>\n",
       "      <th>num_tl_op_past_12m</th>\n",
       "      <th>pct_tl_nvr_dlq</th>\n",
       "      <th>percent_bc_gt_75</th>\n",
       "      <th>pub_rec_bankruptcies</th>\n",
       "      <th>tax_liens</th>\n",
       "      <th>tot_hi_cred_lim</th>\n",
       "      <th>total_bal_ex_mort</th>\n",
       "      <th>total_bc_limit</th>\n",
       "      <th>total_il_high_credit_limit</th>\n",
       "    </tr>\n",
       "  </thead>\n",
       "  <tbody>\n",
       "    <tr>\n",
       "      <th>0</th>\n",
       "      <td>1077501</td>\n",
       "      <td>1296599</td>\n",
       "      <td>5000</td>\n",
       "      <td>5000</td>\n",
       "      <td>4975.0</td>\n",
       "      <td>36</td>\n",
       "      <td>10.65%</td>\n",
       "      <td>162.87</td>\n",
       "      <td>B</td>\n",
       "      <td>B2</td>\n",
       "      <td>...</td>\n",
       "      <td>NaN</td>\n",
       "      <td>NaN</td>\n",
       "      <td>NaN</td>\n",
       "      <td>NaN</td>\n",
       "      <td>0.0</td>\n",
       "      <td>0.0</td>\n",
       "      <td>NaN</td>\n",
       "      <td>NaN</td>\n",
       "      <td>NaN</td>\n",
       "      <td>NaN</td>\n",
       "    </tr>\n",
       "    <tr>\n",
       "      <th>1</th>\n",
       "      <td>1077430</td>\n",
       "      <td>1314167</td>\n",
       "      <td>2500</td>\n",
       "      <td>2500</td>\n",
       "      <td>2500.0</td>\n",
       "      <td>60</td>\n",
       "      <td>15.27%</td>\n",
       "      <td>59.83</td>\n",
       "      <td>C</td>\n",
       "      <td>C4</td>\n",
       "      <td>...</td>\n",
       "      <td>NaN</td>\n",
       "      <td>NaN</td>\n",
       "      <td>NaN</td>\n",
       "      <td>NaN</td>\n",
       "      <td>0.0</td>\n",
       "      <td>0.0</td>\n",
       "      <td>NaN</td>\n",
       "      <td>NaN</td>\n",
       "      <td>NaN</td>\n",
       "      <td>NaN</td>\n",
       "    </tr>\n",
       "    <tr>\n",
       "      <th>2</th>\n",
       "      <td>1077175</td>\n",
       "      <td>1313524</td>\n",
       "      <td>2400</td>\n",
       "      <td>2400</td>\n",
       "      <td>2400.0</td>\n",
       "      <td>36</td>\n",
       "      <td>15.96%</td>\n",
       "      <td>84.33</td>\n",
       "      <td>C</td>\n",
       "      <td>C5</td>\n",
       "      <td>...</td>\n",
       "      <td>NaN</td>\n",
       "      <td>NaN</td>\n",
       "      <td>NaN</td>\n",
       "      <td>NaN</td>\n",
       "      <td>0.0</td>\n",
       "      <td>0.0</td>\n",
       "      <td>NaN</td>\n",
       "      <td>NaN</td>\n",
       "      <td>NaN</td>\n",
       "      <td>NaN</td>\n",
       "    </tr>\n",
       "    <tr>\n",
       "      <th>3</th>\n",
       "      <td>1076863</td>\n",
       "      <td>1277178</td>\n",
       "      <td>10000</td>\n",
       "      <td>10000</td>\n",
       "      <td>10000.0</td>\n",
       "      <td>36</td>\n",
       "      <td>13.49%</td>\n",
       "      <td>339.31</td>\n",
       "      <td>C</td>\n",
       "      <td>C1</td>\n",
       "      <td>...</td>\n",
       "      <td>NaN</td>\n",
       "      <td>NaN</td>\n",
       "      <td>NaN</td>\n",
       "      <td>NaN</td>\n",
       "      <td>0.0</td>\n",
       "      <td>0.0</td>\n",
       "      <td>NaN</td>\n",
       "      <td>NaN</td>\n",
       "      <td>NaN</td>\n",
       "      <td>NaN</td>\n",
       "    </tr>\n",
       "    <tr>\n",
       "      <th>4</th>\n",
       "      <td>1075358</td>\n",
       "      <td>1311748</td>\n",
       "      <td>3000</td>\n",
       "      <td>3000</td>\n",
       "      <td>3000.0</td>\n",
       "      <td>60</td>\n",
       "      <td>12.69%</td>\n",
       "      <td>67.79</td>\n",
       "      <td>B</td>\n",
       "      <td>B5</td>\n",
       "      <td>...</td>\n",
       "      <td>NaN</td>\n",
       "      <td>NaN</td>\n",
       "      <td>NaN</td>\n",
       "      <td>NaN</td>\n",
       "      <td>0.0</td>\n",
       "      <td>0.0</td>\n",
       "      <td>NaN</td>\n",
       "      <td>NaN</td>\n",
       "      <td>NaN</td>\n",
       "      <td>NaN</td>\n",
       "    </tr>\n",
       "  </tbody>\n",
       "</table>\n",
       "<p>5 rows × 111 columns</p>\n",
       "</div>"
      ],
      "text/plain": [
       "        id  member_id  loan_amnt  funded_amnt  funded_amnt_inv  term int_rate  \\\n",
       "0  1077501    1296599       5000         5000           4975.0    36   10.65%   \n",
       "1  1077430    1314167       2500         2500           2500.0    60   15.27%   \n",
       "2  1077175    1313524       2400         2400           2400.0    36   15.96%   \n",
       "3  1076863    1277178      10000        10000          10000.0    36   13.49%   \n",
       "4  1075358    1311748       3000         3000           3000.0    60   12.69%   \n",
       "\n",
       "   installment grade sub_grade  ... num_tl_90g_dpd_24m num_tl_op_past_12m  \\\n",
       "0       162.87     B        B2  ...                NaN                NaN   \n",
       "1        59.83     C        C4  ...                NaN                NaN   \n",
       "2        84.33     C        C5  ...                NaN                NaN   \n",
       "3       339.31     C        C1  ...                NaN                NaN   \n",
       "4        67.79     B        B5  ...                NaN                NaN   \n",
       "\n",
       "  pct_tl_nvr_dlq  percent_bc_gt_75 pub_rec_bankruptcies tax_liens  \\\n",
       "0            NaN               NaN                  0.0       0.0   \n",
       "1            NaN               NaN                  0.0       0.0   \n",
       "2            NaN               NaN                  0.0       0.0   \n",
       "3            NaN               NaN                  0.0       0.0   \n",
       "4            NaN               NaN                  0.0       0.0   \n",
       "\n",
       "  tot_hi_cred_lim total_bal_ex_mort total_bc_limit total_il_high_credit_limit  \n",
       "0             NaN               NaN            NaN                        NaN  \n",
       "1             NaN               NaN            NaN                        NaN  \n",
       "2             NaN               NaN            NaN                        NaN  \n",
       "3             NaN               NaN            NaN                        NaN  \n",
       "4             NaN               NaN            NaN                        NaN  \n",
       "\n",
       "[5 rows x 111 columns]"
      ]
     },
     "execution_count": 4,
     "metadata": {},
     "output_type": "execute_result"
    }
   ],
   "source": [
    "# Display the first 5 rows of the DataFrame\n",
    "Loan_df.head()"
   ]
  },
  {
   "cell_type": "code",
   "execution_count": 5,
   "id": "1f4d695f-8594-4416-8bc6-438ca3fa6c2b",
   "metadata": {},
   "outputs": [
    {
     "data": {
      "text/html": [
       "<div>\n",
       "<style scoped>\n",
       "    .dataframe tbody tr th:only-of-type {\n",
       "        vertical-align: middle;\n",
       "    }\n",
       "\n",
       "    .dataframe tbody tr th {\n",
       "        vertical-align: top;\n",
       "    }\n",
       "\n",
       "    .dataframe thead th {\n",
       "        text-align: right;\n",
       "    }\n",
       "</style>\n",
       "<table border=\"1\" class=\"dataframe\">\n",
       "  <thead>\n",
       "    <tr style=\"text-align: right;\">\n",
       "      <th></th>\n",
       "      <th>id</th>\n",
       "      <th>member_id</th>\n",
       "      <th>loan_amnt</th>\n",
       "      <th>funded_amnt</th>\n",
       "      <th>funded_amnt_inv</th>\n",
       "      <th>term</th>\n",
       "      <th>int_rate</th>\n",
       "      <th>installment</th>\n",
       "      <th>grade</th>\n",
       "      <th>sub_grade</th>\n",
       "      <th>...</th>\n",
       "      <th>num_tl_90g_dpd_24m</th>\n",
       "      <th>num_tl_op_past_12m</th>\n",
       "      <th>pct_tl_nvr_dlq</th>\n",
       "      <th>percent_bc_gt_75</th>\n",
       "      <th>pub_rec_bankruptcies</th>\n",
       "      <th>tax_liens</th>\n",
       "      <th>tot_hi_cred_lim</th>\n",
       "      <th>total_bal_ex_mort</th>\n",
       "      <th>total_bc_limit</th>\n",
       "      <th>total_il_high_credit_limit</th>\n",
       "    </tr>\n",
       "  </thead>\n",
       "  <tbody>\n",
       "    <tr>\n",
       "      <th>39712</th>\n",
       "      <td>92187</td>\n",
       "      <td>92174</td>\n",
       "      <td>2500</td>\n",
       "      <td>2500</td>\n",
       "      <td>1075.0</td>\n",
       "      <td>36</td>\n",
       "      <td>8.07%</td>\n",
       "      <td>78.42</td>\n",
       "      <td>A</td>\n",
       "      <td>A4</td>\n",
       "      <td>...</td>\n",
       "      <td>NaN</td>\n",
       "      <td>NaN</td>\n",
       "      <td>NaN</td>\n",
       "      <td>NaN</td>\n",
       "      <td>NaN</td>\n",
       "      <td>NaN</td>\n",
       "      <td>NaN</td>\n",
       "      <td>NaN</td>\n",
       "      <td>NaN</td>\n",
       "      <td>NaN</td>\n",
       "    </tr>\n",
       "    <tr>\n",
       "      <th>39713</th>\n",
       "      <td>90665</td>\n",
       "      <td>90607</td>\n",
       "      <td>8500</td>\n",
       "      <td>8500</td>\n",
       "      <td>875.0</td>\n",
       "      <td>36</td>\n",
       "      <td>10.28%</td>\n",
       "      <td>275.38</td>\n",
       "      <td>C</td>\n",
       "      <td>C1</td>\n",
       "      <td>...</td>\n",
       "      <td>NaN</td>\n",
       "      <td>NaN</td>\n",
       "      <td>NaN</td>\n",
       "      <td>NaN</td>\n",
       "      <td>NaN</td>\n",
       "      <td>NaN</td>\n",
       "      <td>NaN</td>\n",
       "      <td>NaN</td>\n",
       "      <td>NaN</td>\n",
       "      <td>NaN</td>\n",
       "    </tr>\n",
       "    <tr>\n",
       "      <th>39714</th>\n",
       "      <td>90395</td>\n",
       "      <td>90390</td>\n",
       "      <td>5000</td>\n",
       "      <td>5000</td>\n",
       "      <td>1325.0</td>\n",
       "      <td>36</td>\n",
       "      <td>8.07%</td>\n",
       "      <td>156.84</td>\n",
       "      <td>A</td>\n",
       "      <td>A4</td>\n",
       "      <td>...</td>\n",
       "      <td>NaN</td>\n",
       "      <td>NaN</td>\n",
       "      <td>NaN</td>\n",
       "      <td>NaN</td>\n",
       "      <td>NaN</td>\n",
       "      <td>NaN</td>\n",
       "      <td>NaN</td>\n",
       "      <td>NaN</td>\n",
       "      <td>NaN</td>\n",
       "      <td>NaN</td>\n",
       "    </tr>\n",
       "    <tr>\n",
       "      <th>39715</th>\n",
       "      <td>90376</td>\n",
       "      <td>89243</td>\n",
       "      <td>5000</td>\n",
       "      <td>5000</td>\n",
       "      <td>650.0</td>\n",
       "      <td>36</td>\n",
       "      <td>7.43%</td>\n",
       "      <td>155.38</td>\n",
       "      <td>A</td>\n",
       "      <td>A2</td>\n",
       "      <td>...</td>\n",
       "      <td>NaN</td>\n",
       "      <td>NaN</td>\n",
       "      <td>NaN</td>\n",
       "      <td>NaN</td>\n",
       "      <td>NaN</td>\n",
       "      <td>NaN</td>\n",
       "      <td>NaN</td>\n",
       "      <td>NaN</td>\n",
       "      <td>NaN</td>\n",
       "      <td>NaN</td>\n",
       "    </tr>\n",
       "    <tr>\n",
       "      <th>39716</th>\n",
       "      <td>87023</td>\n",
       "      <td>86999</td>\n",
       "      <td>7500</td>\n",
       "      <td>7500</td>\n",
       "      <td>800.0</td>\n",
       "      <td>36</td>\n",
       "      <td>13.75%</td>\n",
       "      <td>255.43</td>\n",
       "      <td>E</td>\n",
       "      <td>E2</td>\n",
       "      <td>...</td>\n",
       "      <td>NaN</td>\n",
       "      <td>NaN</td>\n",
       "      <td>NaN</td>\n",
       "      <td>NaN</td>\n",
       "      <td>NaN</td>\n",
       "      <td>NaN</td>\n",
       "      <td>NaN</td>\n",
       "      <td>NaN</td>\n",
       "      <td>NaN</td>\n",
       "      <td>NaN</td>\n",
       "    </tr>\n",
       "  </tbody>\n",
       "</table>\n",
       "<p>5 rows × 111 columns</p>\n",
       "</div>"
      ],
      "text/plain": [
       "          id  member_id  loan_amnt  funded_amnt  funded_amnt_inv  term  \\\n",
       "39712  92187      92174       2500         2500           1075.0    36   \n",
       "39713  90665      90607       8500         8500            875.0    36   \n",
       "39714  90395      90390       5000         5000           1325.0    36   \n",
       "39715  90376      89243       5000         5000            650.0    36   \n",
       "39716  87023      86999       7500         7500            800.0    36   \n",
       "\n",
       "      int_rate  installment grade sub_grade  ... num_tl_90g_dpd_24m  \\\n",
       "39712    8.07%        78.42     A        A4  ...                NaN   \n",
       "39713   10.28%       275.38     C        C1  ...                NaN   \n",
       "39714    8.07%       156.84     A        A4  ...                NaN   \n",
       "39715    7.43%       155.38     A        A2  ...                NaN   \n",
       "39716   13.75%       255.43     E        E2  ...                NaN   \n",
       "\n",
       "      num_tl_op_past_12m pct_tl_nvr_dlq  percent_bc_gt_75  \\\n",
       "39712                NaN            NaN               NaN   \n",
       "39713                NaN            NaN               NaN   \n",
       "39714                NaN            NaN               NaN   \n",
       "39715                NaN            NaN               NaN   \n",
       "39716                NaN            NaN               NaN   \n",
       "\n",
       "      pub_rec_bankruptcies tax_liens tot_hi_cred_lim total_bal_ex_mort  \\\n",
       "39712                  NaN       NaN             NaN               NaN   \n",
       "39713                  NaN       NaN             NaN               NaN   \n",
       "39714                  NaN       NaN             NaN               NaN   \n",
       "39715                  NaN       NaN             NaN               NaN   \n",
       "39716                  NaN       NaN             NaN               NaN   \n",
       "\n",
       "      total_bc_limit total_il_high_credit_limit  \n",
       "39712            NaN                        NaN  \n",
       "39713            NaN                        NaN  \n",
       "39714            NaN                        NaN  \n",
       "39715            NaN                        NaN  \n",
       "39716            NaN                        NaN  \n",
       "\n",
       "[5 rows x 111 columns]"
      ]
     },
     "execution_count": 5,
     "metadata": {},
     "output_type": "execute_result"
    }
   ],
   "source": [
    "# Display the last 5 rows of the DataFrame\n",
    "Loan_df.tail()"
   ]
  },
  {
   "cell_type": "code",
   "execution_count": 6,
   "id": "de6c2e70-1614-4786-ae7a-ac7af5020e1d",
   "metadata": {},
   "outputs": [
    {
     "data": {
      "text/plain": [
       "(39717, 111)"
      ]
     },
     "execution_count": 6,
     "metadata": {},
     "output_type": "execute_result"
    }
   ],
   "source": [
    "# Returns (number_of_rows, number_of_columns)\n",
    "Loan_df.shape "
   ]
  },
  {
   "cell_type": "code",
   "execution_count": 7,
   "id": "413f5a55-2736-484f-8446-d9190d4a9427",
   "metadata": {},
   "outputs": [
    {
     "name": "stdout",
     "output_type": "stream",
     "text": [
      "<class 'pandas.core.frame.DataFrame'>\n",
      "RangeIndex: 39717 entries, 0 to 39716\n",
      "Data columns (total 111 columns):\n",
      " #    Column                          Dtype  \n",
      "---   ------                          -----  \n",
      " 0    id                              int64  \n",
      " 1    member_id                       int64  \n",
      " 2    loan_amnt                       int64  \n",
      " 3    funded_amnt                     int64  \n",
      " 4    funded_amnt_inv                 float64\n",
      " 5    term                            int64  \n",
      " 6    int_rate                        object \n",
      " 7    installment                     float64\n",
      " 8    grade                           object \n",
      " 9    sub_grade                       object \n",
      " 10   emp_title                       object \n",
      " 11   emp_length                      object \n",
      " 12   home_ownership                  object \n",
      " 13   annual_inc                      float64\n",
      " 14   verification_status             object \n",
      " 15   issue_d                         object \n",
      " 16   loan_status                     object \n",
      " 17   pymnt_plan                      object \n",
      " 18   url                             object \n",
      " 19   desc                            object \n",
      " 20   purpose                         object \n",
      " 21   title                           object \n",
      " 22   zip_code                        object \n",
      " 23   addr_state                      object \n",
      " 24   dti                             float64\n",
      " 25   delinq_2yrs                     int64  \n",
      " 26   earliest_cr_line                object \n",
      " 27   inq_last_6mths                  int64  \n",
      " 28   mths_since_last_delinq          float64\n",
      " 29   mths_since_last_record          float64\n",
      " 30   open_acc                        int64  \n",
      " 31   pub_rec                         int64  \n",
      " 32   revol_bal                       int64  \n",
      " 33   revol_util                      object \n",
      " 34   total_acc                       int64  \n",
      " 35   initial_list_status             object \n",
      " 36   out_prncp                       float64\n",
      " 37   out_prncp_inv                   float64\n",
      " 38   total_pymnt                     float64\n",
      " 39   total_pymnt_inv                 float64\n",
      " 40   total_rec_prncp                 float64\n",
      " 41   total_rec_int                   float64\n",
      " 42   total_rec_late_fee              float64\n",
      " 43   recoveries                      float64\n",
      " 44   collection_recovery_fee         float64\n",
      " 45   last_pymnt_d                    object \n",
      " 46   last_pymnt_amnt                 float64\n",
      " 47   next_pymnt_d                    object \n",
      " 48   last_credit_pull_d              object \n",
      " 49   collections_12_mths_ex_med      float64\n",
      " 50   mths_since_last_major_derog     float64\n",
      " 51   policy_code                     int64  \n",
      " 52   application_type                object \n",
      " 53   annual_inc_joint                float64\n",
      " 54   dti_joint                       float64\n",
      " 55   verification_status_joint       float64\n",
      " 56   acc_now_delinq                  int64  \n",
      " 57   tot_coll_amt                    float64\n",
      " 58   tot_cur_bal                     float64\n",
      " 59   open_acc_6m                     float64\n",
      " 60   open_il_6m                      float64\n",
      " 61   open_il_12m                     float64\n",
      " 62   open_il_24m                     float64\n",
      " 63   mths_since_rcnt_il              float64\n",
      " 64   total_bal_il                    float64\n",
      " 65   il_util                         float64\n",
      " 66   open_rv_12m                     float64\n",
      " 67   open_rv_24m                     float64\n",
      " 68   max_bal_bc                      float64\n",
      " 69   all_util                        float64\n",
      " 70   total_rev_hi_lim                float64\n",
      " 71   inq_fi                          float64\n",
      " 72   total_cu_tl                     float64\n",
      " 73   inq_last_12m                    float64\n",
      " 74   acc_open_past_24mths            float64\n",
      " 75   avg_cur_bal                     float64\n",
      " 76   bc_open_to_buy                  float64\n",
      " 77   bc_util                         float64\n",
      " 78   chargeoff_within_12_mths        float64\n",
      " 79   delinq_amnt                     int64  \n",
      " 80   mo_sin_old_il_acct              float64\n",
      " 81   mo_sin_old_rev_tl_op            float64\n",
      " 82   mo_sin_rcnt_rev_tl_op           float64\n",
      " 83   mo_sin_rcnt_tl                  float64\n",
      " 84   mort_acc                        float64\n",
      " 85   mths_since_recent_bc            float64\n",
      " 86   mths_since_recent_bc_dlq        float64\n",
      " 87   mths_since_recent_inq           float64\n",
      " 88   mths_since_recent_revol_delinq  float64\n",
      " 89   num_accts_ever_120_pd           float64\n",
      " 90   num_actv_bc_tl                  float64\n",
      " 91   num_actv_rev_tl                 float64\n",
      " 92   num_bc_sats                     float64\n",
      " 93   num_bc_tl                       float64\n",
      " 94   num_il_tl                       float64\n",
      " 95   num_op_rev_tl                   float64\n",
      " 96   num_rev_accts                   float64\n",
      " 97   num_rev_tl_bal_gt_0             float64\n",
      " 98   num_sats                        float64\n",
      " 99   num_tl_120dpd_2m                float64\n",
      " 100  num_tl_30dpd                    float64\n",
      " 101  num_tl_90g_dpd_24m              float64\n",
      " 102  num_tl_op_past_12m              float64\n",
      " 103  pct_tl_nvr_dlq                  float64\n",
      " 104  percent_bc_gt_75                float64\n",
      " 105  pub_rec_bankruptcies            float64\n",
      " 106  tax_liens                       float64\n",
      " 107  tot_hi_cred_lim                 float64\n",
      " 108  total_bal_ex_mort               float64\n",
      " 109  total_bc_limit                  float64\n",
      " 110  total_il_high_credit_limit      float64\n",
      "dtypes: float64(74), int64(14), object(23)\n",
      "memory usage: 33.6+ MB\n"
     ]
    }
   ],
   "source": [
    "# Summary of the DataFrame including data types and non-null values\n",
    "Loan_df.info(verbose=True)"
   ]
  },
  {
   "cell_type": "code",
   "execution_count": 8,
   "id": "00f1c480-75a8-4a9f-93a2-6f77e791d25b",
   "metadata": {},
   "outputs": [
    {
     "name": "stdout",
     "output_type": "stream",
     "text": [
      "0        False\n",
      "1        False\n",
      "2        False\n",
      "3        False\n",
      "4        False\n",
      "         ...  \n",
      "39712    False\n",
      "39713    False\n",
      "39714    False\n",
      "39715    False\n",
      "39716    False\n",
      "Length: 39717, dtype: bool\n"
     ]
    }
   ],
   "source": [
    "#Identifying Duplicates: Use duplicated() to find duplicate rows.\n",
    "\n",
    "duplicates = Loan_df.duplicated()\n",
    "print(duplicates)"
   ]
  },
  {
   "cell_type": "code",
   "execution_count": 9,
   "id": "0d8cbf4d-e7b5-4edc-9f40-c5124c1e8df0",
   "metadata": {},
   "outputs": [
    {
     "data": {
      "text/plain": [
       "['annual_inc_joint',\n",
       " 'dti_joint',\n",
       " 'verification_status_joint',\n",
       " 'tot_coll_amt',\n",
       " 'tot_cur_bal',\n",
       " 'open_acc_6m',\n",
       " 'open_il_6m',\n",
       " 'open_il_12m',\n",
       " 'open_il_24m',\n",
       " 'mths_since_rcnt_il',\n",
       " 'total_bal_il',\n",
       " 'il_util',\n",
       " 'open_rv_12m',\n",
       " 'open_rv_24m',\n",
       " 'max_bal_bc',\n",
       " 'all_util',\n",
       " 'total_rev_hi_lim',\n",
       " 'inq_fi',\n",
       " 'total_cu_tl',\n",
       " 'inq_last_12m',\n",
       " 'acc_open_past_24mths',\n",
       " 'avg_cur_bal',\n",
       " 'bc_open_to_buy',\n",
       " 'bc_util',\n",
       " 'mo_sin_old_il_acct',\n",
       " 'mo_sin_old_rev_tl_op',\n",
       " 'mo_sin_rcnt_rev_tl_op',\n",
       " 'mo_sin_rcnt_tl',\n",
       " 'mort_acc',\n",
       " 'mths_since_recent_bc',\n",
       " 'mths_since_recent_bc_dlq',\n",
       " 'mths_since_recent_inq',\n",
       " 'mths_since_recent_revol_delinq',\n",
       " 'num_accts_ever_120_pd',\n",
       " 'num_actv_bc_tl',\n",
       " 'num_actv_rev_tl',\n",
       " 'num_bc_sats',\n",
       " 'num_bc_tl',\n",
       " 'num_il_tl',\n",
       " 'num_op_rev_tl',\n",
       " 'num_rev_accts',\n",
       " 'num_rev_tl_bal_gt_0',\n",
       " 'num_sats',\n",
       " 'num_tl_120dpd_2m',\n",
       " 'num_tl_30dpd',\n",
       " 'num_tl_90g_dpd_24m',\n",
       " 'num_tl_op_past_12m',\n",
       " 'pct_tl_nvr_dlq',\n",
       " 'percent_bc_gt_75',\n",
       " 'tot_hi_cred_lim',\n",
       " 'total_bal_ex_mort',\n",
       " 'total_bc_limit',\n",
       " 'total_il_high_credit_limit']"
      ]
     },
     "execution_count": 9,
     "metadata": {},
     "output_type": "execute_result"
    }
   ],
   "source": [
    "# details of columns having all the values \"NA\" which is not required analysis.\n",
    "columns_NA_Count=len(Loan_df.columns[Loan_df.isna().all()].tolist())\n",
    "columns_NA_List=list(Loan_df.columns[Loan_df.isna().all()])\n",
    "columns_NA_List"
   ]
  },
  {
   "cell_type": "code",
   "execution_count": 10,
   "id": "3419c6ab-630d-4910-8840-246422a3f8a7",
   "metadata": {},
   "outputs": [
    {
     "data": {
      "text/html": [
       "<div>\n",
       "<style scoped>\n",
       "    .dataframe tbody tr th:only-of-type {\n",
       "        vertical-align: middle;\n",
       "    }\n",
       "\n",
       "    .dataframe tbody tr th {\n",
       "        vertical-align: top;\n",
       "    }\n",
       "\n",
       "    .dataframe thead th {\n",
       "        text-align: right;\n",
       "    }\n",
       "</style>\n",
       "<table border=\"1\" class=\"dataframe\">\n",
       "  <thead>\n",
       "    <tr style=\"text-align: right;\">\n",
       "      <th></th>\n",
       "      <th>id</th>\n",
       "      <th>member_id</th>\n",
       "      <th>loan_amnt</th>\n",
       "      <th>funded_amnt</th>\n",
       "      <th>funded_amnt_inv</th>\n",
       "      <th>term</th>\n",
       "      <th>int_rate</th>\n",
       "      <th>installment</th>\n",
       "      <th>grade</th>\n",
       "      <th>sub_grade</th>\n",
       "      <th>...</th>\n",
       "      <th>last_credit_pull_d</th>\n",
       "      <th>collections_12_mths_ex_med</th>\n",
       "      <th>mths_since_last_major_derog</th>\n",
       "      <th>policy_code</th>\n",
       "      <th>application_type</th>\n",
       "      <th>acc_now_delinq</th>\n",
       "      <th>chargeoff_within_12_mths</th>\n",
       "      <th>delinq_amnt</th>\n",
       "      <th>pub_rec_bankruptcies</th>\n",
       "      <th>tax_liens</th>\n",
       "    </tr>\n",
       "  </thead>\n",
       "  <tbody>\n",
       "    <tr>\n",
       "      <th>0</th>\n",
       "      <td>1077501</td>\n",
       "      <td>1296599</td>\n",
       "      <td>5000</td>\n",
       "      <td>5000</td>\n",
       "      <td>4975.0</td>\n",
       "      <td>36</td>\n",
       "      <td>10.65%</td>\n",
       "      <td>162.87</td>\n",
       "      <td>B</td>\n",
       "      <td>B2</td>\n",
       "      <td>...</td>\n",
       "      <td>16-May</td>\n",
       "      <td>0.0</td>\n",
       "      <td>0.0</td>\n",
       "      <td>1</td>\n",
       "      <td>INDIVIDUAL</td>\n",
       "      <td>0</td>\n",
       "      <td>0.0</td>\n",
       "      <td>0</td>\n",
       "      <td>0.0</td>\n",
       "      <td>0.0</td>\n",
       "    </tr>\n",
       "    <tr>\n",
       "      <th>1</th>\n",
       "      <td>1077430</td>\n",
       "      <td>1314167</td>\n",
       "      <td>2500</td>\n",
       "      <td>2500</td>\n",
       "      <td>2500.0</td>\n",
       "      <td>60</td>\n",
       "      <td>15.27%</td>\n",
       "      <td>59.83</td>\n",
       "      <td>C</td>\n",
       "      <td>C4</td>\n",
       "      <td>...</td>\n",
       "      <td>13-Sep</td>\n",
       "      <td>0.0</td>\n",
       "      <td>0.0</td>\n",
       "      <td>1</td>\n",
       "      <td>INDIVIDUAL</td>\n",
       "      <td>0</td>\n",
       "      <td>0.0</td>\n",
       "      <td>0</td>\n",
       "      <td>0.0</td>\n",
       "      <td>0.0</td>\n",
       "    </tr>\n",
       "    <tr>\n",
       "      <th>2</th>\n",
       "      <td>1077175</td>\n",
       "      <td>1313524</td>\n",
       "      <td>2400</td>\n",
       "      <td>2400</td>\n",
       "      <td>2400.0</td>\n",
       "      <td>36</td>\n",
       "      <td>15.96%</td>\n",
       "      <td>84.33</td>\n",
       "      <td>C</td>\n",
       "      <td>C5</td>\n",
       "      <td>...</td>\n",
       "      <td>16-May</td>\n",
       "      <td>0.0</td>\n",
       "      <td>0.0</td>\n",
       "      <td>1</td>\n",
       "      <td>INDIVIDUAL</td>\n",
       "      <td>0</td>\n",
       "      <td>0.0</td>\n",
       "      <td>0</td>\n",
       "      <td>0.0</td>\n",
       "      <td>0.0</td>\n",
       "    </tr>\n",
       "    <tr>\n",
       "      <th>3</th>\n",
       "      <td>1076863</td>\n",
       "      <td>1277178</td>\n",
       "      <td>10000</td>\n",
       "      <td>10000</td>\n",
       "      <td>10000.0</td>\n",
       "      <td>36</td>\n",
       "      <td>13.49%</td>\n",
       "      <td>339.31</td>\n",
       "      <td>C</td>\n",
       "      <td>C1</td>\n",
       "      <td>...</td>\n",
       "      <td>16-Apr</td>\n",
       "      <td>0.0</td>\n",
       "      <td>0.0</td>\n",
       "      <td>1</td>\n",
       "      <td>INDIVIDUAL</td>\n",
       "      <td>0</td>\n",
       "      <td>0.0</td>\n",
       "      <td>0</td>\n",
       "      <td>0.0</td>\n",
       "      <td>0.0</td>\n",
       "    </tr>\n",
       "    <tr>\n",
       "      <th>4</th>\n",
       "      <td>1075358</td>\n",
       "      <td>1311748</td>\n",
       "      <td>3000</td>\n",
       "      <td>3000</td>\n",
       "      <td>3000.0</td>\n",
       "      <td>60</td>\n",
       "      <td>12.69%</td>\n",
       "      <td>67.79</td>\n",
       "      <td>B</td>\n",
       "      <td>B5</td>\n",
       "      <td>...</td>\n",
       "      <td>16-May</td>\n",
       "      <td>0.0</td>\n",
       "      <td>0.0</td>\n",
       "      <td>1</td>\n",
       "      <td>INDIVIDUAL</td>\n",
       "      <td>0</td>\n",
       "      <td>0.0</td>\n",
       "      <td>0</td>\n",
       "      <td>0.0</td>\n",
       "      <td>0.0</td>\n",
       "    </tr>\n",
       "    <tr>\n",
       "      <th>...</th>\n",
       "      <td>...</td>\n",
       "      <td>...</td>\n",
       "      <td>...</td>\n",
       "      <td>...</td>\n",
       "      <td>...</td>\n",
       "      <td>...</td>\n",
       "      <td>...</td>\n",
       "      <td>...</td>\n",
       "      <td>...</td>\n",
       "      <td>...</td>\n",
       "      <td>...</td>\n",
       "      <td>...</td>\n",
       "      <td>...</td>\n",
       "      <td>...</td>\n",
       "      <td>...</td>\n",
       "      <td>...</td>\n",
       "      <td>...</td>\n",
       "      <td>...</td>\n",
       "      <td>...</td>\n",
       "      <td>...</td>\n",
       "      <td>...</td>\n",
       "    </tr>\n",
       "    <tr>\n",
       "      <th>39712</th>\n",
       "      <td>92187</td>\n",
       "      <td>92174</td>\n",
       "      <td>2500</td>\n",
       "      <td>2500</td>\n",
       "      <td>1075.0</td>\n",
       "      <td>36</td>\n",
       "      <td>8.07%</td>\n",
       "      <td>78.42</td>\n",
       "      <td>A</td>\n",
       "      <td>A4</td>\n",
       "      <td>...</td>\n",
       "      <td>10-Jun</td>\n",
       "      <td>NaN</td>\n",
       "      <td>0.0</td>\n",
       "      <td>1</td>\n",
       "      <td>INDIVIDUAL</td>\n",
       "      <td>0</td>\n",
       "      <td>NaN</td>\n",
       "      <td>0</td>\n",
       "      <td>NaN</td>\n",
       "      <td>NaN</td>\n",
       "    </tr>\n",
       "    <tr>\n",
       "      <th>39713</th>\n",
       "      <td>90665</td>\n",
       "      <td>90607</td>\n",
       "      <td>8500</td>\n",
       "      <td>8500</td>\n",
       "      <td>875.0</td>\n",
       "      <td>36</td>\n",
       "      <td>10.28%</td>\n",
       "      <td>275.38</td>\n",
       "      <td>C</td>\n",
       "      <td>C1</td>\n",
       "      <td>...</td>\n",
       "      <td>10-Jul</td>\n",
       "      <td>NaN</td>\n",
       "      <td>0.0</td>\n",
       "      <td>1</td>\n",
       "      <td>INDIVIDUAL</td>\n",
       "      <td>0</td>\n",
       "      <td>NaN</td>\n",
       "      <td>0</td>\n",
       "      <td>NaN</td>\n",
       "      <td>NaN</td>\n",
       "    </tr>\n",
       "    <tr>\n",
       "      <th>39714</th>\n",
       "      <td>90395</td>\n",
       "      <td>90390</td>\n",
       "      <td>5000</td>\n",
       "      <td>5000</td>\n",
       "      <td>1325.0</td>\n",
       "      <td>36</td>\n",
       "      <td>8.07%</td>\n",
       "      <td>156.84</td>\n",
       "      <td>A</td>\n",
       "      <td>A4</td>\n",
       "      <td>...</td>\n",
       "      <td>7-Jun</td>\n",
       "      <td>NaN</td>\n",
       "      <td>0.0</td>\n",
       "      <td>1</td>\n",
       "      <td>INDIVIDUAL</td>\n",
       "      <td>0</td>\n",
       "      <td>NaN</td>\n",
       "      <td>0</td>\n",
       "      <td>NaN</td>\n",
       "      <td>NaN</td>\n",
       "    </tr>\n",
       "    <tr>\n",
       "      <th>39715</th>\n",
       "      <td>90376</td>\n",
       "      <td>89243</td>\n",
       "      <td>5000</td>\n",
       "      <td>5000</td>\n",
       "      <td>650.0</td>\n",
       "      <td>36</td>\n",
       "      <td>7.43%</td>\n",
       "      <td>155.38</td>\n",
       "      <td>A</td>\n",
       "      <td>A2</td>\n",
       "      <td>...</td>\n",
       "      <td>7-Jun</td>\n",
       "      <td>NaN</td>\n",
       "      <td>0.0</td>\n",
       "      <td>1</td>\n",
       "      <td>INDIVIDUAL</td>\n",
       "      <td>0</td>\n",
       "      <td>NaN</td>\n",
       "      <td>0</td>\n",
       "      <td>NaN</td>\n",
       "      <td>NaN</td>\n",
       "    </tr>\n",
       "    <tr>\n",
       "      <th>39716</th>\n",
       "      <td>87023</td>\n",
       "      <td>86999</td>\n",
       "      <td>7500</td>\n",
       "      <td>7500</td>\n",
       "      <td>800.0</td>\n",
       "      <td>36</td>\n",
       "      <td>13.75%</td>\n",
       "      <td>255.43</td>\n",
       "      <td>E</td>\n",
       "      <td>E2</td>\n",
       "      <td>...</td>\n",
       "      <td>10-Jun</td>\n",
       "      <td>NaN</td>\n",
       "      <td>0.0</td>\n",
       "      <td>1</td>\n",
       "      <td>INDIVIDUAL</td>\n",
       "      <td>0</td>\n",
       "      <td>NaN</td>\n",
       "      <td>0</td>\n",
       "      <td>NaN</td>\n",
       "      <td>NaN</td>\n",
       "    </tr>\n",
       "  </tbody>\n",
       "</table>\n",
       "<p>39717 rows × 58 columns</p>\n",
       "</div>"
      ],
      "text/plain": [
       "            id  member_id  loan_amnt  funded_amnt  funded_amnt_inv  term  \\\n",
       "0      1077501    1296599       5000         5000           4975.0    36   \n",
       "1      1077430    1314167       2500         2500           2500.0    60   \n",
       "2      1077175    1313524       2400         2400           2400.0    36   \n",
       "3      1076863    1277178      10000        10000          10000.0    36   \n",
       "4      1075358    1311748       3000         3000           3000.0    60   \n",
       "...        ...        ...        ...          ...              ...   ...   \n",
       "39712    92187      92174       2500         2500           1075.0    36   \n",
       "39713    90665      90607       8500         8500            875.0    36   \n",
       "39714    90395      90390       5000         5000           1325.0    36   \n",
       "39715    90376      89243       5000         5000            650.0    36   \n",
       "39716    87023      86999       7500         7500            800.0    36   \n",
       "\n",
       "      int_rate  installment grade sub_grade  ... last_credit_pull_d  \\\n",
       "0       10.65%       162.87     B        B2  ...             16-May   \n",
       "1       15.27%        59.83     C        C4  ...             13-Sep   \n",
       "2       15.96%        84.33     C        C5  ...             16-May   \n",
       "3       13.49%       339.31     C        C1  ...             16-Apr   \n",
       "4       12.69%        67.79     B        B5  ...             16-May   \n",
       "...        ...          ...   ...       ...  ...                ...   \n",
       "39712    8.07%        78.42     A        A4  ...             10-Jun   \n",
       "39713   10.28%       275.38     C        C1  ...             10-Jul   \n",
       "39714    8.07%       156.84     A        A4  ...              7-Jun   \n",
       "39715    7.43%       155.38     A        A2  ...              7-Jun   \n",
       "39716   13.75%       255.43     E        E2  ...             10-Jun   \n",
       "\n",
       "      collections_12_mths_ex_med mths_since_last_major_derog  policy_code  \\\n",
       "0                            0.0                         0.0            1   \n",
       "1                            0.0                         0.0            1   \n",
       "2                            0.0                         0.0            1   \n",
       "3                            0.0                         0.0            1   \n",
       "4                            0.0                         0.0            1   \n",
       "...                          ...                         ...          ...   \n",
       "39712                        NaN                         0.0            1   \n",
       "39713                        NaN                         0.0            1   \n",
       "39714                        NaN                         0.0            1   \n",
       "39715                        NaN                         0.0            1   \n",
       "39716                        NaN                         0.0            1   \n",
       "\n",
       "      application_type acc_now_delinq chargeoff_within_12_mths delinq_amnt  \\\n",
       "0           INDIVIDUAL              0                      0.0           0   \n",
       "1           INDIVIDUAL              0                      0.0           0   \n",
       "2           INDIVIDUAL              0                      0.0           0   \n",
       "3           INDIVIDUAL              0                      0.0           0   \n",
       "4           INDIVIDUAL              0                      0.0           0   \n",
       "...                ...            ...                      ...         ...   \n",
       "39712       INDIVIDUAL              0                      NaN           0   \n",
       "39713       INDIVIDUAL              0                      NaN           0   \n",
       "39714       INDIVIDUAL              0                      NaN           0   \n",
       "39715       INDIVIDUAL              0                      NaN           0   \n",
       "39716       INDIVIDUAL              0                      NaN           0   \n",
       "\n",
       "      pub_rec_bankruptcies tax_liens  \n",
       "0                      0.0       0.0  \n",
       "1                      0.0       0.0  \n",
       "2                      0.0       0.0  \n",
       "3                      0.0       0.0  \n",
       "4                      0.0       0.0  \n",
       "...                    ...       ...  \n",
       "39712                  NaN       NaN  \n",
       "39713                  NaN       NaN  \n",
       "39714                  NaN       NaN  \n",
       "39715                  NaN       NaN  \n",
       "39716                  NaN       NaN  \n",
       "\n",
       "[39717 rows x 58 columns]"
      ]
     },
     "execution_count": 10,
     "metadata": {},
     "output_type": "execute_result"
    }
   ],
   "source": [
    "# Deleting columns having all the values \"NA\" which is not required analysis and after deleting 58 columns remaining from 111\n",
    "Loan_df = Loan_df.dropna(axis=1, how=\"all\")\n",
    "Loan_df"
   ]
  },
  {
   "cell_type": "code",
   "execution_count": 11,
   "id": "c703bb80-4561-4761-a3c6-9817ea73823c",
   "metadata": {},
   "outputs": [
    {
     "data": {
      "text/html": [
       "<div>\n",
       "<style scoped>\n",
       "    .dataframe tbody tr th:only-of-type {\n",
       "        vertical-align: middle;\n",
       "    }\n",
       "\n",
       "    .dataframe tbody tr th {\n",
       "        vertical-align: top;\n",
       "    }\n",
       "\n",
       "    .dataframe thead th {\n",
       "        text-align: right;\n",
       "    }\n",
       "</style>\n",
       "<table border=\"1\" class=\"dataframe\">\n",
       "  <thead>\n",
       "    <tr style=\"text-align: right;\">\n",
       "      <th></th>\n",
       "      <th>id</th>\n",
       "      <th>member_id</th>\n",
       "      <th>loan_amnt</th>\n",
       "      <th>funded_amnt</th>\n",
       "      <th>funded_amnt_inv</th>\n",
       "      <th>term</th>\n",
       "      <th>int_rate</th>\n",
       "      <th>installment</th>\n",
       "      <th>grade</th>\n",
       "      <th>sub_grade</th>\n",
       "      <th>...</th>\n",
       "      <th>last_credit_pull_d</th>\n",
       "      <th>collections_12_mths_ex_med</th>\n",
       "      <th>mths_since_last_major_derog</th>\n",
       "      <th>policy_code</th>\n",
       "      <th>application_type</th>\n",
       "      <th>acc_now_delinq</th>\n",
       "      <th>chargeoff_within_12_mths</th>\n",
       "      <th>delinq_amnt</th>\n",
       "      <th>pub_rec_bankruptcies</th>\n",
       "      <th>tax_liens</th>\n",
       "    </tr>\n",
       "  </thead>\n",
       "  <tbody>\n",
       "    <tr>\n",
       "      <th>0</th>\n",
       "      <td>1077501</td>\n",
       "      <td>1296599</td>\n",
       "      <td>5000</td>\n",
       "      <td>5000</td>\n",
       "      <td>4975.0</td>\n",
       "      <td>36</td>\n",
       "      <td>10.65%</td>\n",
       "      <td>162.87</td>\n",
       "      <td>B</td>\n",
       "      <td>B2</td>\n",
       "      <td>...</td>\n",
       "      <td>16-May</td>\n",
       "      <td>0.0</td>\n",
       "      <td>0.0</td>\n",
       "      <td>1</td>\n",
       "      <td>INDIVIDUAL</td>\n",
       "      <td>0</td>\n",
       "      <td>0.0</td>\n",
       "      <td>0</td>\n",
       "      <td>0.0</td>\n",
       "      <td>0.0</td>\n",
       "    </tr>\n",
       "    <tr>\n",
       "      <th>1</th>\n",
       "      <td>1077430</td>\n",
       "      <td>1314167</td>\n",
       "      <td>2500</td>\n",
       "      <td>2500</td>\n",
       "      <td>2500.0</td>\n",
       "      <td>60</td>\n",
       "      <td>15.27%</td>\n",
       "      <td>59.83</td>\n",
       "      <td>C</td>\n",
       "      <td>C4</td>\n",
       "      <td>...</td>\n",
       "      <td>13-Sep</td>\n",
       "      <td>0.0</td>\n",
       "      <td>0.0</td>\n",
       "      <td>1</td>\n",
       "      <td>INDIVIDUAL</td>\n",
       "      <td>0</td>\n",
       "      <td>0.0</td>\n",
       "      <td>0</td>\n",
       "      <td>0.0</td>\n",
       "      <td>0.0</td>\n",
       "    </tr>\n",
       "    <tr>\n",
       "      <th>2</th>\n",
       "      <td>1077175</td>\n",
       "      <td>1313524</td>\n",
       "      <td>2400</td>\n",
       "      <td>2400</td>\n",
       "      <td>2400.0</td>\n",
       "      <td>36</td>\n",
       "      <td>15.96%</td>\n",
       "      <td>84.33</td>\n",
       "      <td>C</td>\n",
       "      <td>C5</td>\n",
       "      <td>...</td>\n",
       "      <td>16-May</td>\n",
       "      <td>0.0</td>\n",
       "      <td>0.0</td>\n",
       "      <td>1</td>\n",
       "      <td>INDIVIDUAL</td>\n",
       "      <td>0</td>\n",
       "      <td>0.0</td>\n",
       "      <td>0</td>\n",
       "      <td>0.0</td>\n",
       "      <td>0.0</td>\n",
       "    </tr>\n",
       "    <tr>\n",
       "      <th>3</th>\n",
       "      <td>1076863</td>\n",
       "      <td>1277178</td>\n",
       "      <td>10000</td>\n",
       "      <td>10000</td>\n",
       "      <td>10000.0</td>\n",
       "      <td>36</td>\n",
       "      <td>13.49%</td>\n",
       "      <td>339.31</td>\n",
       "      <td>C</td>\n",
       "      <td>C1</td>\n",
       "      <td>...</td>\n",
       "      <td>16-Apr</td>\n",
       "      <td>0.0</td>\n",
       "      <td>0.0</td>\n",
       "      <td>1</td>\n",
       "      <td>INDIVIDUAL</td>\n",
       "      <td>0</td>\n",
       "      <td>0.0</td>\n",
       "      <td>0</td>\n",
       "      <td>0.0</td>\n",
       "      <td>0.0</td>\n",
       "    </tr>\n",
       "    <tr>\n",
       "      <th>4</th>\n",
       "      <td>1075358</td>\n",
       "      <td>1311748</td>\n",
       "      <td>3000</td>\n",
       "      <td>3000</td>\n",
       "      <td>3000.0</td>\n",
       "      <td>60</td>\n",
       "      <td>12.69%</td>\n",
       "      <td>67.79</td>\n",
       "      <td>B</td>\n",
       "      <td>B5</td>\n",
       "      <td>...</td>\n",
       "      <td>16-May</td>\n",
       "      <td>0.0</td>\n",
       "      <td>0.0</td>\n",
       "      <td>1</td>\n",
       "      <td>INDIVIDUAL</td>\n",
       "      <td>0</td>\n",
       "      <td>0.0</td>\n",
       "      <td>0</td>\n",
       "      <td>0.0</td>\n",
       "      <td>0.0</td>\n",
       "    </tr>\n",
       "    <tr>\n",
       "      <th>...</th>\n",
       "      <td>...</td>\n",
       "      <td>...</td>\n",
       "      <td>...</td>\n",
       "      <td>...</td>\n",
       "      <td>...</td>\n",
       "      <td>...</td>\n",
       "      <td>...</td>\n",
       "      <td>...</td>\n",
       "      <td>...</td>\n",
       "      <td>...</td>\n",
       "      <td>...</td>\n",
       "      <td>...</td>\n",
       "      <td>...</td>\n",
       "      <td>...</td>\n",
       "      <td>...</td>\n",
       "      <td>...</td>\n",
       "      <td>...</td>\n",
       "      <td>...</td>\n",
       "      <td>...</td>\n",
       "      <td>...</td>\n",
       "      <td>...</td>\n",
       "    </tr>\n",
       "    <tr>\n",
       "      <th>39712</th>\n",
       "      <td>92187</td>\n",
       "      <td>92174</td>\n",
       "      <td>2500</td>\n",
       "      <td>2500</td>\n",
       "      <td>1075.0</td>\n",
       "      <td>36</td>\n",
       "      <td>8.07%</td>\n",
       "      <td>78.42</td>\n",
       "      <td>A</td>\n",
       "      <td>A4</td>\n",
       "      <td>...</td>\n",
       "      <td>10-Jun</td>\n",
       "      <td>NaN</td>\n",
       "      <td>0.0</td>\n",
       "      <td>1</td>\n",
       "      <td>INDIVIDUAL</td>\n",
       "      <td>0</td>\n",
       "      <td>NaN</td>\n",
       "      <td>0</td>\n",
       "      <td>NaN</td>\n",
       "      <td>NaN</td>\n",
       "    </tr>\n",
       "    <tr>\n",
       "      <th>39713</th>\n",
       "      <td>90665</td>\n",
       "      <td>90607</td>\n",
       "      <td>8500</td>\n",
       "      <td>8500</td>\n",
       "      <td>875.0</td>\n",
       "      <td>36</td>\n",
       "      <td>10.28%</td>\n",
       "      <td>275.38</td>\n",
       "      <td>C</td>\n",
       "      <td>C1</td>\n",
       "      <td>...</td>\n",
       "      <td>10-Jul</td>\n",
       "      <td>NaN</td>\n",
       "      <td>0.0</td>\n",
       "      <td>1</td>\n",
       "      <td>INDIVIDUAL</td>\n",
       "      <td>0</td>\n",
       "      <td>NaN</td>\n",
       "      <td>0</td>\n",
       "      <td>NaN</td>\n",
       "      <td>NaN</td>\n",
       "    </tr>\n",
       "    <tr>\n",
       "      <th>39714</th>\n",
       "      <td>90395</td>\n",
       "      <td>90390</td>\n",
       "      <td>5000</td>\n",
       "      <td>5000</td>\n",
       "      <td>1325.0</td>\n",
       "      <td>36</td>\n",
       "      <td>8.07%</td>\n",
       "      <td>156.84</td>\n",
       "      <td>A</td>\n",
       "      <td>A4</td>\n",
       "      <td>...</td>\n",
       "      <td>7-Jun</td>\n",
       "      <td>NaN</td>\n",
       "      <td>0.0</td>\n",
       "      <td>1</td>\n",
       "      <td>INDIVIDUAL</td>\n",
       "      <td>0</td>\n",
       "      <td>NaN</td>\n",
       "      <td>0</td>\n",
       "      <td>NaN</td>\n",
       "      <td>NaN</td>\n",
       "    </tr>\n",
       "    <tr>\n",
       "      <th>39715</th>\n",
       "      <td>90376</td>\n",
       "      <td>89243</td>\n",
       "      <td>5000</td>\n",
       "      <td>5000</td>\n",
       "      <td>650.0</td>\n",
       "      <td>36</td>\n",
       "      <td>7.43%</td>\n",
       "      <td>155.38</td>\n",
       "      <td>A</td>\n",
       "      <td>A2</td>\n",
       "      <td>...</td>\n",
       "      <td>7-Jun</td>\n",
       "      <td>NaN</td>\n",
       "      <td>0.0</td>\n",
       "      <td>1</td>\n",
       "      <td>INDIVIDUAL</td>\n",
       "      <td>0</td>\n",
       "      <td>NaN</td>\n",
       "      <td>0</td>\n",
       "      <td>NaN</td>\n",
       "      <td>NaN</td>\n",
       "    </tr>\n",
       "    <tr>\n",
       "      <th>39716</th>\n",
       "      <td>87023</td>\n",
       "      <td>86999</td>\n",
       "      <td>7500</td>\n",
       "      <td>7500</td>\n",
       "      <td>800.0</td>\n",
       "      <td>36</td>\n",
       "      <td>13.75%</td>\n",
       "      <td>255.43</td>\n",
       "      <td>E</td>\n",
       "      <td>E2</td>\n",
       "      <td>...</td>\n",
       "      <td>10-Jun</td>\n",
       "      <td>NaN</td>\n",
       "      <td>0.0</td>\n",
       "      <td>1</td>\n",
       "      <td>INDIVIDUAL</td>\n",
       "      <td>0</td>\n",
       "      <td>NaN</td>\n",
       "      <td>0</td>\n",
       "      <td>NaN</td>\n",
       "      <td>NaN</td>\n",
       "    </tr>\n",
       "  </tbody>\n",
       "</table>\n",
       "<p>39717 rows × 58 columns</p>\n",
       "</div>"
      ],
      "text/plain": [
       "            id  member_id  loan_amnt  funded_amnt  funded_amnt_inv  term  \\\n",
       "0      1077501    1296599       5000         5000           4975.0    36   \n",
       "1      1077430    1314167       2500         2500           2500.0    60   \n",
       "2      1077175    1313524       2400         2400           2400.0    36   \n",
       "3      1076863    1277178      10000        10000          10000.0    36   \n",
       "4      1075358    1311748       3000         3000           3000.0    60   \n",
       "...        ...        ...        ...          ...              ...   ...   \n",
       "39712    92187      92174       2500         2500           1075.0    36   \n",
       "39713    90665      90607       8500         8500            875.0    36   \n",
       "39714    90395      90390       5000         5000           1325.0    36   \n",
       "39715    90376      89243       5000         5000            650.0    36   \n",
       "39716    87023      86999       7500         7500            800.0    36   \n",
       "\n",
       "      int_rate  installment grade sub_grade  ... last_credit_pull_d  \\\n",
       "0       10.65%       162.87     B        B2  ...             16-May   \n",
       "1       15.27%        59.83     C        C4  ...             13-Sep   \n",
       "2       15.96%        84.33     C        C5  ...             16-May   \n",
       "3       13.49%       339.31     C        C1  ...             16-Apr   \n",
       "4       12.69%        67.79     B        B5  ...             16-May   \n",
       "...        ...          ...   ...       ...  ...                ...   \n",
       "39712    8.07%        78.42     A        A4  ...             10-Jun   \n",
       "39713   10.28%       275.38     C        C1  ...             10-Jul   \n",
       "39714    8.07%       156.84     A        A4  ...              7-Jun   \n",
       "39715    7.43%       155.38     A        A2  ...              7-Jun   \n",
       "39716   13.75%       255.43     E        E2  ...             10-Jun   \n",
       "\n",
       "      collections_12_mths_ex_med mths_since_last_major_derog  policy_code  \\\n",
       "0                            0.0                         0.0            1   \n",
       "1                            0.0                         0.0            1   \n",
       "2                            0.0                         0.0            1   \n",
       "3                            0.0                         0.0            1   \n",
       "4                            0.0                         0.0            1   \n",
       "...                          ...                         ...          ...   \n",
       "39712                        NaN                         0.0            1   \n",
       "39713                        NaN                         0.0            1   \n",
       "39714                        NaN                         0.0            1   \n",
       "39715                        NaN                         0.0            1   \n",
       "39716                        NaN                         0.0            1   \n",
       "\n",
       "      application_type acc_now_delinq chargeoff_within_12_mths delinq_amnt  \\\n",
       "0           INDIVIDUAL              0                      0.0           0   \n",
       "1           INDIVIDUAL              0                      0.0           0   \n",
       "2           INDIVIDUAL              0                      0.0           0   \n",
       "3           INDIVIDUAL              0                      0.0           0   \n",
       "4           INDIVIDUAL              0                      0.0           0   \n",
       "...                ...            ...                      ...         ...   \n",
       "39712       INDIVIDUAL              0                      NaN           0   \n",
       "39713       INDIVIDUAL              0                      NaN           0   \n",
       "39714       INDIVIDUAL              0                      NaN           0   \n",
       "39715       INDIVIDUAL              0                      NaN           0   \n",
       "39716       INDIVIDUAL              0                      NaN           0   \n",
       "\n",
       "      pub_rec_bankruptcies tax_liens  \n",
       "0                      0.0       0.0  \n",
       "1                      0.0       0.0  \n",
       "2                      0.0       0.0  \n",
       "3                      0.0       0.0  \n",
       "4                      0.0       0.0  \n",
       "...                    ...       ...  \n",
       "39712                  NaN       NaN  \n",
       "39713                  NaN       NaN  \n",
       "39714                  NaN       NaN  \n",
       "39715                  NaN       NaN  \n",
       "39716                  NaN       NaN  \n",
       "\n",
       "[39717 rows x 58 columns]"
      ]
     },
     "execution_count": 11,
     "metadata": {},
     "output_type": "execute_result"
    }
   ],
   "source": [
    "# Deleting rows having all the values \"NA\" which is not required analysis and after deleting 39717 columns remaining from 39717\n",
    "Loan_df = Loan_df.dropna(axis=0, how=\"all\")\n",
    "Loan_df"
   ]
  },
  {
   "cell_type": "code",
   "execution_count": 12,
   "id": "5cf554d7-9156-44e4-8edf-9cde9a5b621f",
   "metadata": {},
   "outputs": [],
   "source": [
    "# Dropping text/description columns which wont contribute to overall analysis\n",
    "Loan_df = Loan_df.drop(['url', 'emp_title', 'desc', 'title'],  axis=1)"
   ]
  },
  {
   "cell_type": "code",
   "execution_count": 13,
   "id": "08ed07d4-865f-42d0-a528-35210f250c78",
   "metadata": {},
   "outputs": [],
   "source": [
    "# Dropping column sub_grade as the current analysis will limit to Grade only\n",
    "Loan_df = Loan_df.drop(['sub_grade'],  axis=1)"
   ]
  },
  {
   "cell_type": "code",
   "execution_count": 14,
   "id": "72016782-505e-4f44-9ce7-57614ac9054b",
   "metadata": {},
   "outputs": [],
   "source": [
    "#Dropping all columns with all zero values\n",
    "Loan_df = Loan_df.loc[:, (Loan_df != 0).any(axis=0)]"
   ]
  },
  {
   "cell_type": "code",
   "execution_count": 15,
   "id": "d6f0dbc9-1853-433c-a278-5c7268808331",
   "metadata": {},
   "outputs": [
    {
     "name": "stdout",
     "output_type": "stream",
     "text": [
      "<class 'pandas.core.frame.DataFrame'>\n",
      "RangeIndex: 39717 entries, 0 to 39716\n",
      "Data columns (total 50 columns):\n",
      " #   Column                      Non-Null Count  Dtype  \n",
      "---  ------                      --------------  -----  \n",
      " 0   id                          39717 non-null  int64  \n",
      " 1   member_id                   39717 non-null  int64  \n",
      " 2   loan_amnt                   39717 non-null  int64  \n",
      " 3   funded_amnt                 39717 non-null  int64  \n",
      " 4   funded_amnt_inv             39717 non-null  float64\n",
      " 5   term                        39717 non-null  int64  \n",
      " 6   int_rate                    39717 non-null  object \n",
      " 7   installment                 39717 non-null  float64\n",
      " 8   grade                       39717 non-null  object \n",
      " 9   emp_length                  38642 non-null  object \n",
      " 10  home_ownership              39717 non-null  object \n",
      " 11  annual_inc                  39717 non-null  float64\n",
      " 12  verification_status         39717 non-null  object \n",
      " 13  issue_d                     39717 non-null  object \n",
      " 14  loan_status                 39717 non-null  object \n",
      " 15  pymnt_plan                  39717 non-null  object \n",
      " 16  purpose                     39717 non-null  object \n",
      " 17  zip_code                    39717 non-null  object \n",
      " 18  addr_state                  39717 non-null  object \n",
      " 19  dti                         39717 non-null  float64\n",
      " 20  delinq_2yrs                 39717 non-null  int64  \n",
      " 21  earliest_cr_line            39717 non-null  object \n",
      " 22  inq_last_6mths              39717 non-null  int64  \n",
      " 23  mths_since_last_delinq      39717 non-null  float64\n",
      " 24  mths_since_last_record      39717 non-null  float64\n",
      " 25  open_acc                    39717 non-null  int64  \n",
      " 26  pub_rec                     39717 non-null  int64  \n",
      " 27  revol_bal                   39717 non-null  int64  \n",
      " 28  revol_util                  39667 non-null  object \n",
      " 29  total_acc                   39717 non-null  int64  \n",
      " 30  initial_list_status         39717 non-null  object \n",
      " 31  out_prncp                   39717 non-null  float64\n",
      " 32  out_prncp_inv               39717 non-null  float64\n",
      " 33  total_pymnt                 39717 non-null  float64\n",
      " 34  total_pymnt_inv             39717 non-null  float64\n",
      " 35  total_rec_prncp             39717 non-null  float64\n",
      " 36  total_rec_int               39717 non-null  float64\n",
      " 37  total_rec_late_fee          39717 non-null  float64\n",
      " 38  recoveries                  39717 non-null  float64\n",
      " 39  collection_recovery_fee     39717 non-null  float64\n",
      " 40  last_pymnt_d                39646 non-null  object \n",
      " 41  last_pymnt_amnt             39717 non-null  float64\n",
      " 42  next_pymnt_d                1140 non-null   object \n",
      " 43  last_credit_pull_d          39715 non-null  object \n",
      " 44  collections_12_mths_ex_med  39661 non-null  float64\n",
      " 45  policy_code                 39717 non-null  int64  \n",
      " 46  application_type            39717 non-null  object \n",
      " 47  chargeoff_within_12_mths    39661 non-null  float64\n",
      " 48  pub_rec_bankruptcies        39020 non-null  float64\n",
      " 49  tax_liens                   39678 non-null  float64\n",
      "dtypes: float64(20), int64(12), object(18)\n",
      "memory usage: 15.2+ MB\n"
     ]
    }
   ],
   "source": [
    "# Dropping column which having same unique value \n",
    "Loan_df.shape\n",
    "Loan_df.info(verbose=True)"
   ]
  },
  {
   "cell_type": "code",
   "execution_count": 16,
   "id": "0c267906-93a0-490d-b7ae-c9787c8a2e9d",
   "metadata": {},
   "outputs": [],
   "source": [
    "Loan_df = Loan_df.drop(['pub_rec_bankruptcies'],  axis=1)"
   ]
  },
  {
   "cell_type": "code",
   "execution_count": 17,
   "id": "154f4f80-57bf-4434-a6c8-65ee445cbe5e",
   "metadata": {},
   "outputs": [],
   "source": [
    "Loan_df = Loan_df.drop(['tax_liens'],  axis=1)"
   ]
  },
  {
   "cell_type": "code",
   "execution_count": 18,
   "id": "6465b3af-9f15-4848-9135-f48f0d1efb8a",
   "metadata": {},
   "outputs": [],
   "source": [
    "Loan_df = Loan_df.drop(['pymnt_plan'],  axis=1)"
   ]
  },
  {
   "cell_type": "code",
   "execution_count": 19,
   "id": "60707f21-b27a-4170-b489-2e82b1dd9892",
   "metadata": {},
   "outputs": [],
   "source": [
    "Loan_df = Loan_df.drop(['initial_list_status'],  axis=1)"
   ]
  },
  {
   "cell_type": "code",
   "execution_count": 20,
   "id": "697a6485-08cb-4676-ba79-91cd79b55137",
   "metadata": {},
   "outputs": [],
   "source": [
    "Loan_df = Loan_df.drop(['application_type'],  axis=1)"
   ]
  },
  {
   "cell_type": "code",
   "execution_count": 21,
   "id": "0db7208c-e45d-49fe-b1f2-9b6b2397d35a",
   "metadata": {},
   "outputs": [],
   "source": [
    "Loan_df = Loan_df.drop(['policy_code'],  axis=1)"
   ]
  },
  {
   "cell_type": "code",
   "execution_count": 22,
   "id": "9d6d8c47-b531-4eef-b3f5-bfc4b897204c",
   "metadata": {},
   "outputs": [
    {
     "name": "stdout",
     "output_type": "stream",
     "text": [
      "<class 'pandas.core.frame.DataFrame'>\n",
      "RangeIndex: 39717 entries, 0 to 39716\n",
      "Data columns (total 44 columns):\n",
      " #   Column                      Non-Null Count  Dtype  \n",
      "---  ------                      --------------  -----  \n",
      " 0   id                          39717 non-null  int64  \n",
      " 1   member_id                   39717 non-null  int64  \n",
      " 2   loan_amnt                   39717 non-null  int64  \n",
      " 3   funded_amnt                 39717 non-null  int64  \n",
      " 4   funded_amnt_inv             39717 non-null  float64\n",
      " 5   term                        39717 non-null  int64  \n",
      " 6   int_rate                    39717 non-null  object \n",
      " 7   installment                 39717 non-null  float64\n",
      " 8   grade                       39717 non-null  object \n",
      " 9   emp_length                  38642 non-null  object \n",
      " 10  home_ownership              39717 non-null  object \n",
      " 11  annual_inc                  39717 non-null  float64\n",
      " 12  verification_status         39717 non-null  object \n",
      " 13  issue_d                     39717 non-null  object \n",
      " 14  loan_status                 39717 non-null  object \n",
      " 15  purpose                     39717 non-null  object \n",
      " 16  zip_code                    39717 non-null  object \n",
      " 17  addr_state                  39717 non-null  object \n",
      " 18  dti                         39717 non-null  float64\n",
      " 19  delinq_2yrs                 39717 non-null  int64  \n",
      " 20  earliest_cr_line            39717 non-null  object \n",
      " 21  inq_last_6mths              39717 non-null  int64  \n",
      " 22  mths_since_last_delinq      39717 non-null  float64\n",
      " 23  mths_since_last_record      39717 non-null  float64\n",
      " 24  open_acc                    39717 non-null  int64  \n",
      " 25  pub_rec                     39717 non-null  int64  \n",
      " 26  revol_bal                   39717 non-null  int64  \n",
      " 27  revol_util                  39667 non-null  object \n",
      " 28  total_acc                   39717 non-null  int64  \n",
      " 29  out_prncp                   39717 non-null  float64\n",
      " 30  out_prncp_inv               39717 non-null  float64\n",
      " 31  total_pymnt                 39717 non-null  float64\n",
      " 32  total_pymnt_inv             39717 non-null  float64\n",
      " 33  total_rec_prncp             39717 non-null  float64\n",
      " 34  total_rec_int               39717 non-null  float64\n",
      " 35  total_rec_late_fee          39717 non-null  float64\n",
      " 36  recoveries                  39717 non-null  float64\n",
      " 37  collection_recovery_fee     39717 non-null  float64\n",
      " 38  last_pymnt_d                39646 non-null  object \n",
      " 39  last_pymnt_amnt             39717 non-null  float64\n",
      " 40  next_pymnt_d                1140 non-null   object \n",
      " 41  last_credit_pull_d          39715 non-null  object \n",
      " 42  collections_12_mths_ex_med  39661 non-null  float64\n",
      " 43  chargeoff_within_12_mths    39661 non-null  float64\n",
      "dtypes: float64(18), int64(11), object(15)\n",
      "memory usage: 13.3+ MB\n"
     ]
    }
   ],
   "source": [
    "Loan_df.info(verbose=True)"
   ]
  },
  {
   "cell_type": "code",
   "execution_count": 23,
   "id": "588b72a7-cf30-4ce2-ac68-24d43c34b643",
   "metadata": {},
   "outputs": [],
   "source": [
    "def drop_columns_high_na(Loan_df, threshold=0.65):\n",
    "    #\"\"\"Drop columns from a DataFrame where the percentage of empty values is greater than the threshold.\n",
    "    #Parameters:\n",
    "    #df (DataFrame): The DataFrame to process.\n",
    "    #threshold (float): The threshold for dropping columns, default is 65%.\n",
    "    #Returns:\n",
    "    #DataFrame: The DataFrame with columns dropped based on the threshold.\n",
    "    \n",
    "    # Calculate the percentage of empty values for each column\n",
    "    na_percentage = Loan_df.isnull().mean()\n",
    "    \n",
    "    # Identify columns to drop based on the threshold\n",
    "    columns_to_drop = na_percentage[na_percentage > threshold].index\n",
    "    \n",
    "    # Drop the identified columns\n",
    "    Loan_df.drop(columns=columns_to_drop, inplace=True)\n",
    "    \n",
    "    return df"
   ]
  },
  {
   "cell_type": "code",
   "execution_count": 24,
   "id": "67dc6793-0150-4e19-be3d-cf7f633edd79",
   "metadata": {},
   "outputs": [
    {
     "name": "stdout",
     "output_type": "stream",
     "text": [
      "id                            0.000000\n",
      "member_id                     0.000000\n",
      "loan_amnt                     0.000000\n",
      "funded_amnt                   0.000000\n",
      "funded_amnt_inv               0.000000\n",
      "term                          0.000000\n",
      "int_rate                      0.000000\n",
      "installment                   0.000000\n",
      "grade                         0.000000\n",
      "emp_length                    0.027066\n",
      "home_ownership                0.000000\n",
      "annual_inc                    0.000000\n",
      "verification_status           0.000000\n",
      "issue_d                       0.000000\n",
      "loan_status                   0.000000\n",
      "purpose                       0.000000\n",
      "zip_code                      0.000000\n",
      "addr_state                    0.000000\n",
      "dti                           0.000000\n",
      "delinq_2yrs                   0.000000\n",
      "earliest_cr_line              0.000000\n",
      "inq_last_6mths                0.000000\n",
      "mths_since_last_delinq        0.000000\n",
      "mths_since_last_record        0.000000\n",
      "open_acc                      0.000000\n",
      "pub_rec                       0.000000\n",
      "revol_bal                     0.000000\n",
      "revol_util                    0.001259\n",
      "total_acc                     0.000000\n",
      "out_prncp                     0.000000\n",
      "out_prncp_inv                 0.000000\n",
      "total_pymnt                   0.000000\n",
      "total_pymnt_inv               0.000000\n",
      "total_rec_prncp               0.000000\n",
      "total_rec_int                 0.000000\n",
      "total_rec_late_fee            0.000000\n",
      "recoveries                    0.000000\n",
      "collection_recovery_fee       0.000000\n",
      "last_pymnt_d                  0.001788\n",
      "last_pymnt_amnt               0.000000\n",
      "next_pymnt_d                  0.971297\n",
      "last_credit_pull_d            0.000050\n",
      "collections_12_mths_ex_med    0.001410\n",
      "chargeoff_within_12_mths      0.001410\n",
      "dtype: float64\n"
     ]
    }
   ],
   "source": [
    "na_percentage = Loan_df.isnull().mean()\n",
    "print(na_percentage)"
   ]
  },
  {
   "cell_type": "code",
   "execution_count": 25,
   "id": "d540ea29-1dd7-4ee3-a3bf-d33d65931e9e",
   "metadata": {},
   "outputs": [
    {
     "data": {
      "text/plain": [
       "loan_status\n",
       "Fully Paid     32950\n",
       "Charged Off     5627\n",
       "Current         1140\n",
       "Name: count, dtype: int64"
      ]
     },
     "execution_count": 25,
     "metadata": {},
     "output_type": "execute_result"
    }
   ],
   "source": [
    "#Check Loan status\n",
    "Loan_df['loan_status'].value_counts()"
   ]
  },
  {
   "cell_type": "code",
   "execution_count": 26,
   "id": "57d523e2-fc26-4682-a537-3f5fce44219a",
   "metadata": {},
   "outputs": [
    {
     "name": "stdout",
     "output_type": "stream",
     "text": [
      "Total number of rows now: 38577\n"
     ]
    }
   ],
   "source": [
    "#Dropping the rows for loan_status=='Current' as the loan pay process is ongoing so we cannot concider with default category to pay the loan\n",
    "Loan_df= Loan_df[Loan_df['loan_status']!='Current']\n",
    "print(\"Total number of rows now:\",len(Loan_df)) ## Total no of rows now."
   ]
  },
  {
   "cell_type": "code",
   "execution_count": null,
   "id": "fe2d9609-5977-40a6-9721-e2a7fd554430",
   "metadata": {},
   "outputs": [],
   "source": [
    "########################## Data Formatting and Conversion  ##########################"
   ]
  },
  {
   "cell_type": "code",
   "execution_count": 27,
   "id": "c5c3c5f3-ec21-4a76-8569-8ad9629af598",
   "metadata": {},
   "outputs": [
    {
     "data": {
      "text/plain": [
       "count    38577.000000\n",
       "mean        11.932219\n",
       "std          3.691327\n",
       "min          5.420000\n",
       "25%          8.940000\n",
       "50%         11.710000\n",
       "75%         14.380000\n",
       "max         24.400000\n",
       "Name: int_rate, dtype: float64"
      ]
     },
     "execution_count": 27,
     "metadata": {},
     "output_type": "execute_result"
    }
   ],
   "source": [
    "## Cleaning column 'int_rate' by removing '%' symbol.\n",
    "\n",
    "Loan_df['int_rate'] = Loan_df['int_rate'].apply(lambda x: float(x.rstrip('%')))\n",
    "Loan_df['int_rate'].describe()"
   ]
  },
  {
   "cell_type": "code",
   "execution_count": 28,
   "id": "7c72f39e-5ba4-4dda-8742-b151644f7565",
   "metadata": {},
   "outputs": [],
   "source": [
    "## Converting interest rate data to category to get more insight for each segment\n",
    "Loan_df['intRateCategory'] = pd.cut(Loan_df['int_rate'], [0, 5, 10, 15, 20, 25], \n",
    "                                 labels=['0-5', '5-10', '10-15', '15-20', '20+'])"
   ]
  },
  {
   "cell_type": "code",
   "execution_count": 29,
   "id": "5cc53ca6-5005-48ce-a74a-6ed7344f012a",
   "metadata": {},
   "outputs": [
    {
     "data": {
      "text/plain": [
       "intRateCategory\n",
       "10-15    18265\n",
       "5-10     12316\n",
       "15-20     7226\n",
       "20+        770\n",
       "0-5          0\n",
       "Name: count, dtype: int64"
      ]
     },
     "execution_count": 29,
     "metadata": {},
     "output_type": "execute_result"
    }
   ],
   "source": [
    "Loan_df['intRateCategory'].value_counts()"
   ]
  },
  {
   "cell_type": "code",
   "execution_count": 30,
   "id": "a9a55dc2-3b81-4a70-8c3a-3566a631d71b",
   "metadata": {},
   "outputs": [
    {
     "data": {
      "text/plain": [
       "count    38577.000000\n",
       "mean     11047.025430\n",
       "std       7348.441646\n",
       "min        500.000000\n",
       "25%       5300.000000\n",
       "50%       9600.000000\n",
       "75%      15000.000000\n",
       "max      35000.000000\n",
       "Name: loan_amnt, dtype: float64"
      ]
     },
     "execution_count": 30,
     "metadata": {},
     "output_type": "execute_result"
    }
   ],
   "source": [
    "Loan_df['loan_amnt'].describe()"
   ]
  },
  {
   "cell_type": "code",
   "execution_count": 31,
   "id": "f684bb38-3220-4043-b95c-7e9a6ba7e110",
   "metadata": {},
   "outputs": [],
   "source": [
    "## Converting loan amount data to category to get more insight for each segment\n",
    "Loan_df['loanAmountRange'] = pd.cut(Loan_df['loan_amnt'], [0, 5000, 10000, 15000, 20000, 25000, 30000, 35000], \n",
    "            labels=['0-5000', '5000-10000', '10000-15000', '15000-20000', '20000-25000', '25000-30000', '30000+'])"
   ]
  },
  {
   "cell_type": "code",
   "execution_count": 32,
   "id": "30760bcd-cb55-4bc4-a134-538b91e16f09",
   "metadata": {},
   "outputs": [
    {
     "data": {
      "text/plain": [
       "loanAmountRange\n",
       "5000-10000     12802\n",
       "0-5000          9472\n",
       "10000-15000     7683\n",
       "15000-20000     4349\n",
       "20000-25000     2836\n",
       "30000+           735\n",
       "25000-30000      700\n",
       "Name: count, dtype: int64"
      ]
     },
     "execution_count": 32,
     "metadata": {},
     "output_type": "execute_result"
    }
   ],
   "source": [
    "Loan_df['loanAmountRange'].value_counts()"
   ]
  },
  {
   "cell_type": "code",
   "execution_count": 50,
   "id": "3a3739ca-f6d7-426c-88b2-dcb895374081",
   "metadata": {},
   "outputs": [
    {
     "data": {
      "text/plain": [
       "count    3.617600e+04\n",
       "mean     6.749276e+04\n",
       "std      6.339340e+04\n",
       "min      4.000000e+03\n",
       "25%      4.000000e+04\n",
       "50%      5.787300e+04\n",
       "75%      8.000000e+04\n",
       "max      6.000000e+06\n",
       "Name: annual_inc, dtype: float64"
      ]
     },
     "execution_count": 50,
     "metadata": {},
     "output_type": "execute_result"
    }
   ],
   "source": [
    "Loan_df['annual_inc'].describe()"
   ]
  },
  {
   "cell_type": "code",
   "execution_count": 51,
   "id": "d89a6fef-5dec-4fa4-8ca3-b08e06b6fbff",
   "metadata": {},
   "outputs": [],
   "source": [
    "## Converting annual Income data to category to get more insight for each segment\n",
    "\n",
    "Loan_df['annualIncomeRange'] = pd.cut(Loan_df['annual_inc'], [0, 20000, 40000, 60000, 80000, 1000000], \n",
    "                                 labels=['0-20000', '20000-40000', '40000-60000', '60000-80000', '80000+'])"
   ]
  },
  {
   "cell_type": "code",
   "execution_count": 52,
   "id": "5c593a13-0d0d-4813-921b-57c7a80beb75",
   "metadata": {},
   "outputs": [
    {
     "data": {
      "text/plain": [
       "annualIncomeRange\n",
       "40000-60000    10885\n",
       "80000+          8935\n",
       "20000-40000     8127\n",
       "60000-80000     7206\n",
       "0-20000         1009\n",
       "Name: count, dtype: int64"
      ]
     },
     "execution_count": 52,
     "metadata": {},
     "output_type": "execute_result"
    }
   ],
   "source": [
    "Loan_df['annualIncomeRange'].value_counts()"
   ]
  },
  {
   "cell_type": "code",
   "execution_count": 33,
   "id": "0d6b0c81-d91b-4b7a-a017-9ee23807e906",
   "metadata": {},
   "outputs": [
    {
     "name": "stdout",
     "output_type": "stream",
     "text": [
      "0        10.0\n",
      "1         0.0\n",
      "2        10.0\n",
      "3        10.0\n",
      "5         3.0\n",
      "         ... \n",
      "39712     4.0\n",
      "39713     3.0\n",
      "39714     0.0\n",
      "39715     0.0\n",
      "39716     0.0\n",
      "Name: emp_length, Length: 38577, dtype: float64\n"
     ]
    }
   ],
   "source": [
    "# Converting emp_length as numerical data to create more effective statistical analysis as compared to nominal values\n",
    "Loan_df['emp_length'] = Loan_df['emp_length'].replace({'< 1 year': 0, '2 years': 2, '3 years': 3, \n",
    "                                                         '7 years': 7, '4 years': 4, '5 years': 5, \n",
    "                                                         '1 year': 1, '6 years': 6, '8 years': 8, \n",
    "                                                         '9 years': 9,  '10+ years': 10})\n",
    "print(Loan_df['emp_length'] )"
   ]
  },
  {
   "cell_type": "code",
   "execution_count": 34,
   "id": "6d856d1e-dee0-4b9e-93fc-03a30fa3f77d",
   "metadata": {},
   "outputs": [],
   "source": [
    "#drop emp_length with NA value\n",
    "Loan_df = Loan_df[Loan_df['emp_length'].notna()]"
   ]
  },
  {
   "cell_type": "code",
   "execution_count": 35,
   "id": "9905c4e9-5a74-4716-a48c-30fe7a25bd2f",
   "metadata": {},
   "outputs": [
    {
     "data": {
      "text/plain": [
       "emp_length\n",
       "10.0    8488\n",
       "0.0     4508\n",
       "2.0     4291\n",
       "3.0     4012\n",
       "4.0     3342\n",
       "5.0     3194\n",
       "1.0     3169\n",
       "6.0     2168\n",
       "7.0     1711\n",
       "8.0     1435\n",
       "9.0     1226\n",
       "Name: count, dtype: int64"
      ]
     },
     "execution_count": 35,
     "metadata": {},
     "output_type": "execute_result"
    }
   ],
   "source": [
    "Loan_df['emp_length'].value_counts()"
   ]
  },
  {
   "cell_type": "code",
   "execution_count": null,
   "id": "68bc407e-e930-44eb-8ac7-36680b85cbc2",
   "metadata": {},
   "outputs": [],
   "source": [
    "############################## Identifing and handling outliers / extrem values #################################"
   ]
  },
  {
   "cell_type": "code",
   "execution_count": 36,
   "id": "b0698771-6838-4dfd-be9d-46c88bb0b0db",
   "metadata": {},
   "outputs": [
    {
     "name": "stdout",
     "output_type": "stream",
     "text": [
      "before outliers removal (37544, 46)\n"
     ]
    }
   ],
   "source": [
    "print(\"before outliers removal\",Loan_df.shape)"
   ]
  },
  {
   "cell_type": "code",
   "execution_count": 37,
   "id": "752cac9f-402e-4dcd-aa83-f98a562b47ae",
   "metadata": {},
   "outputs": [
    {
     "data": {
      "text/plain": [
       "{'whiskers': [<matplotlib.lines.Line2D at 0x23280b8af50>,\n",
       "  <matplotlib.lines.Line2D at 0x23280b8bb10>],\n",
       " 'caps': [<matplotlib.lines.Line2D at 0x232fee48d10>,\n",
       "  <matplotlib.lines.Line2D at 0x23280b7ced0>],\n",
       " 'boxes': [<matplotlib.lines.Line2D at 0x23280b8a6d0>],\n",
       " 'medians': [<matplotlib.lines.Line2D at 0x23280b7d790>],\n",
       " 'fliers': [<matplotlib.lines.Line2D at 0x23280b7e110>],\n",
       " 'means': []}"
      ]
     },
     "execution_count": 37,
     "metadata": {},
     "output_type": "execute_result"
    },
    {
     "data": {
      "image/png": "[encoded data removed]",
      "text/plain": [
       "<Figure size 640x480 with 1 Axes>"
      ]
     },
     "metadata": {},
     "output_type": "display_data"
    }
   ],
   "source": [
    "#outliers for loan_amnt\n",
    "plt.boxplot(Loan_df.loan_amnt)"
   ]
  },
  {
   "cell_type": "code",
   "execution_count": 38,
   "id": "1210b152-17aa-4865-bbfe-2d1fca4c8522",
   "metadata": {},
   "outputs": [
    {
     "name": "stdout",
     "output_type": "stream",
     "text": [
      "After outliers removal (36487, 46)\n"
     ]
    },
    {
     "data": {
      "text/plain": [
       "{'whiskers': [<matplotlib.lines.Line2D at 0x23280ae6890>,\n",
       "  <matplotlib.lines.Line2D at 0x23280ae7350>],\n",
       " 'caps': [<matplotlib.lines.Line2D at 0x23280ae7f50>,\n",
       "  <matplotlib.lines.Line2D at 0x23280ad0b50>],\n",
       " 'boxes': [<matplotlib.lines.Line2D at 0x23280ae5c50>],\n",
       " 'medians': [<matplotlib.lines.Line2D at 0x23280ad1610>],\n",
       " 'fliers': [<matplotlib.lines.Line2D at 0x23280ad21d0>],\n",
       " 'means': []}"
      ]
     },
     "execution_count": 38,
     "metadata": {},
     "output_type": "execute_result"
    },
    {
     "data": {
      "image/png": "[encoded data removed]",
      "text/plain": [
       "<Figure size 640x480 with 1 Axes>"
      ]
     },
     "metadata": {},
     "output_type": "display_data"
    }
   ],
   "source": [
    "# Handling outliers for loan_amnt\n",
    "Loan_df=Loan_df[Loan_df.loan_amnt<30000]\n",
    "print(\"After outliers removal\",Loan_df.shape)\n",
    "plt.boxplot(Loan_df.loan_amnt)"
   ]
  },
  {
   "cell_type": "code",
   "execution_count": 39,
   "id": "c38eae06-1515-4a69-8942-ae14164e05e4",
   "metadata": {},
   "outputs": [
    {
     "name": "stdout",
     "output_type": "stream",
     "text": [
      "before outliers removal (36487, 46)\n"
     ]
    },
    {
     "data": {
      "image/png": "[encoded data removed]",
      "text/plain": [
       "<Figure size 640x480 with 1 Axes>"
      ]
     },
     "metadata": {},
     "output_type": "display_data"
    }
   ],
   "source": [
    "#outliers for funded_amnt\n",
    "plt.boxplot(Loan_df.funded_amnt)\n",
    "print(\"before outliers removal\",Loan_df.shape)"
   ]
  },
  {
   "cell_type": "code",
   "execution_count": 40,
   "id": "2189750b-f569-464c-acc8-4afdae8a1bd1",
   "metadata": {},
   "outputs": [
    {
     "name": "stdout",
     "output_type": "stream",
     "text": [
      "After outliers removal (36176, 46)\n"
     ]
    },
    {
     "data": {
      "text/plain": [
       "{'whiskers': [<matplotlib.lines.Line2D at 0x2328540a490>,\n",
       "  <matplotlib.lines.Line2D at 0x2328540b110>],\n",
       " 'caps': [<matplotlib.lines.Line2D at 0x2328540bc10>,\n",
       "  <matplotlib.lines.Line2D at 0x23285410790>],\n",
       " 'boxes': [<matplotlib.lines.Line2D at 0x23285409850>],\n",
       " 'medians': [<matplotlib.lines.Line2D at 0x23285411250>],\n",
       " 'fliers': [<matplotlib.lines.Line2D at 0x23285411c90>],\n",
       " 'means': []}"
      ]
     },
     "execution_count": 40,
     "metadata": {},
     "output_type": "execute_result"
    },
    {
     "data": {
      "image/png": "[encoded data removed]",
      "text/plain": [
       "<Figure size 640x480 with 1 Axes>"
      ]
     },
     "metadata": {},
     "output_type": "display_data"
    }
   ],
   "source": [
    "# Handling outliers for funded_amnt\n",
    "Loan_df=Loan_df[Loan_df.funded_amnt<=25000]\n",
    "print(\"After outliers removal\",Loan_df.shape)\n",
    "plt.boxplot(Loan_df.funded_amnt)"
   ]
  },
  {
   "cell_type": "code",
   "execution_count": 41,
   "id": "9be0b365-5c1d-4376-9e41-9e7d37e9d2aa",
   "metadata": {},
   "outputs": [
    {
     "name": "stdout",
     "output_type": "stream",
     "text": [
      "Before outliers removal (36176, 46)\n"
     ]
    },
    {
     "data": {
      "image/png": "[encoded data removed]",
      "text/plain": [
       "<Figure size 640x480 with 1 Axes>"
      ]
     },
     "metadata": {},
     "output_type": "display_data"
    }
   ],
   "source": [
    "#outliers for dti which seems as expected no need to handle\n",
    "plt.boxplot(Loan_df.dti)\n",
    "print(\"Before outliers removal\",Loan_df.shape)"
   ]
  },
  {
   "cell_type": "code",
   "execution_count": null,
   "id": "798b688a-3611-4ac1-94e1-0378af5f4af5",
   "metadata": {},
   "outputs": [],
   "source": [
    "######################Univarient Analysis######################"
   ]
  },
  {
   "cell_type": "code",
   "execution_count": 43,
   "id": "db83c1ee-3469-4f0f-bc1a-da0573028c82",
   "metadata": {},
   "outputs": [
    {
     "data": {
      "text/plain": [
       "Text(0.5, 9.444444444444438, 'Employment length (in years)')"
      ]
     },
     "execution_count": 43,
     "metadata": {},
     "output_type": "execute_result"
    },
    {
     "data": {
      "image/png": "[encoded data removed]",
      "text/plain": [
       "<Figure size 500x500 with 1 Axes>"
      ]
     },
     "metadata": {},
     "output_type": "display_data"
    }
   ],
   "source": [
    "#Create a distribution plot for emp_length\n",
    "sns.displot(Loan_df.emp_length)\n",
    "plt.xlabel('Employment length (in years)')\n",
    "\n",
    "## Observation: \n",
    "## There are approximate 8000 employess who have taken the loan having tenuer greater than 10 years "
   ]
  },
  {
   "cell_type": "code",
   "execution_count": 45,
   "id": "af3ecaed-633d-408a-b3d4-5b7652cfe6df",
   "metadata": {},
   "outputs": [
    {
     "data": {
      "text/plain": [
       "Text(0.5, 9.444444444444438, 'Term')"
      ]
     },
     "execution_count": 45,
     "metadata": {},
     "output_type": "execute_result"
    },
    {
     "data": {
      "image/png": "[encoded data removed]",
      "text/plain": [
       "<Figure size 500x500 with 1 Axes>"
      ]
     },
     "metadata": {},
     "output_type": "display_data"
    }
   ],
   "source": [
    "#Create a distribution plot for Term\n",
    "sns.displot(Loan_df.term)\n",
    "plt.xlabel('Term')\n",
    "\n",
    "## Observation: \n",
    "## No of employess who taken the loan for Term of 36 months is greater than 60 months"
   ]
  },
  {
   "cell_type": "code",
   "execution_count": 46,
   "id": "8e1c3ca6-fbf8-4631-a29c-90a7f49c8d4c",
   "metadata": {},
   "outputs": [
    {
     "data": {
      "image/png": "[encoded data removed]",
      "text/plain": [
       "<Figure size 1500x800 with 1 Axes>"
      ]
     },
     "metadata": {},
     "output_type": "display_data"
    }
   ],
   "source": [
    "#### Univarient Analysis#### Univariate Analysis on Interest rate-\n",
    "## interest rate distribution and box plot - Quantitative Variable Analysis\n",
    "plt.figure(figsize=(15,8),facecolor='b')\n",
    "plt.subplot(2, 2, 1)\n",
    "intRateDistPlot = sns.distplot(Loan_df['int_rate'], rug=True)\n",
    "intRateDistPlot.set_title('Interest Rate - Distribution ',fontsize=15,color='w')\n",
    "intRateDistPlot.set_xlabel('Interest Rate',fontsize=18,color='w')\n",
    "plt.show()\n",
    "\n",
    "# Observations: \n",
    "# maximum loans have interest rate between 9% - 14%. "
   ]
  },
  {
   "cell_type": "code",
   "execution_count": 47,
   "id": "6a513082-67cc-4b2e-b13f-e4b1db8581fd",
   "metadata": {},
   "outputs": [
    {
     "data": {
      "image/png": "[encoded data removed]",
      "text/plain": [
       "<Figure size 1500x800 with 1 Axes>"
      ]
     },
     "metadata": {},
     "output_type": "display_data"
    }
   ],
   "source": [
    "# Univariate Analysis on Annual Income-\n",
    "## Annual Income distribution and box plot - Quantitative Variable Analysis\n",
    "\n",
    "plt.figure(figsize=(15,8),facecolor='b')\n",
    "plt.subplot(2, 2, 1)\n",
    "annualIncomeDistPlot = sns.distplot(Loan_df[(Loan_df['annual_inc'] < 145000.0)]['annual_inc'], rug=True)\n",
    "annualIncomeDistPlot.set_title('Annual Income - Distribution Plot',fontsize=15,color='w')\n",
    "annualIncomeDistPlot.set_xlabel('Annual Income',fontsize=15,color='w')\n",
    "plt.show()\n",
    "\n",
    "#Observations: \n",
    "# maximum loans have been taken by the borrower having annual income of 40K - 80K."
   ]
  },
  {
   "cell_type": "code",
   "execution_count": 48,
   "id": "0b2c7e59-e7f7-4884-9a7a-f42f08734c0a",
   "metadata": {},
   "outputs": [
    {
     "data": {
      "image/png": "[encoded data removed]",
      "text/plain": [
       "<Figure size 500x500 with 1 Axes>"
      ]
     },
     "metadata": {},
     "output_type": "display_data"
    },
    {
     "data": {
      "text/plain": [
       "loan_status\n",
       "Fully Paid     31076\n",
       "Charged Off     5100\n",
       "Name: count, dtype: int64"
      ]
     },
     "execution_count": 48,
     "metadata": {},
     "output_type": "execute_result"
    }
   ],
   "source": [
    "# Univariate Analysis on Loan Status\n",
    "## Loan Status Count Plot - Unordered Categorical Variable Analysis\n",
    "\n",
    "plt.figure(figsize=(5,5),facecolor='b')\n",
    "\n",
    "loanStatusCountPlot = sns.countplot(x = 'loan_status', data=Loan_df)\n",
    "loanStatusCountPlot.set_title('Loan Status - Count Plot',fontsize=15,color='w')\n",
    "loanStatusCountPlot.set_xlabel('Loan Status',fontsize=15,color='w')\n",
    "loanStatusCountPlot.set_ylabel('Count',fontsize=15,color='w')\n",
    "\n",
    "plt.show()\n",
    "\n",
    "Loan_df['loan_status'].value_counts()\n",
    "\n",
    " #Observation: \n",
    "# approximately 15% of total loans are charged off."
   ]
  },
  {
   "cell_type": "code",
   "execution_count": null,
   "id": "dc1ca7d8-9fcd-44bf-877a-5edb4ec3b7e6",
   "metadata": {},
   "outputs": [],
   "source": [
    "############################ Byvarient Analysis####################################"
   ]
  },
  {
   "cell_type": "code",
   "execution_count": 53,
   "id": "1fa8d3fa-cf7c-4ba0-b93e-7bcebcbac5f0",
   "metadata": {},
   "outputs": [
    {
     "data": {
      "image/png": "[encoded data removed]",
      "text/plain": [
       "<Figure size 1000x500 with 1 Axes>"
      ]
     },
     "metadata": {},
     "output_type": "display_data"
    }
   ],
   "source": [
    "## Bivariate Analysis - Annual Income Category and Loan Amount\n",
    "\n",
    "plt.figure(figsize=(10,5),facecolor='b')\n",
    "\n",
    "plot = sns.barplot(y='loan_amnt', x = 'annualIncomeRange', hue = 'loan_status', data= Loan_df, estimator=np.median)\n",
    "plot.set_title('Annual Income Vs Loan Amount',fontsize=15,color='w')\n",
    "plot.set_xlabel('Annual Income',fontsize=15,color='w')\n",
    "plot.set_ylabel('Loan Amount',fontsize=15,color='w')\n",
    "\n",
    "plt.show()\n",
    "\n",
    "\n",
    "## Observation: \n",
    "## This implies that people who borrow more money are more likely to default, which belong to the same income category"
   ]
  },
  {
   "cell_type": "code",
   "execution_count": 54,
   "id": "0227de50-90db-4468-9130-57fcd6650f0a",
   "metadata": {},
   "outputs": [
    {
     "data": {
      "image/png": "[encoded data removed]",
      "text/plain": [
       "<Figure size 1000x500 with 1 Axes>"
      ]
     },
     "metadata": {},
     "output_type": "display_data"
    }
   ],
   "source": [
    "## Bivariate Analysis -  Loan Amount and Verification Status\n",
    "\n",
    "plt.figure(figsize=(10,5),facecolor='b')\n",
    "\n",
    "plot = sns.barplot(y='loan_amnt', x = 'verification_status', hue = 'loan_status', data= Loan_df, estimator= np.median)\n",
    "plot.set_title('Loan Amount Vs Verification Status',fontsize=15,color='w')\n",
    "plot.set_ylabel('Loan Amount',fontsize=15,color='w')\n",
    "plot.set_xlabel('Verification Status',fontsize=15,color='w')\n",
    "\n",
    "plt.show()\n",
    "\n",
    "\n",
    "## Observation: \n",
    "## Verified borrowers can get more money. \n",
    "#Chargeoff loans are bigger than fully paid ones."
   ]
  },
  {
   "cell_type": "code",
   "execution_count": null,
   "id": "2eb34c0c-ef0d-4e38-b893-88ccf7fbb451",
   "metadata": {},
   "outputs": [],
   "source": []
  }
 ],
 "metadata": {
  "kernelspec": {
   "display_name": "Python 3 (ipykernel)",
   "language": "python",
   "name": "python3"
  },
  "language_info": {
   "codemirror_mode": {
    "name": "ipython",
    "version": 3
   },
   "file_extension": ".py",
   "mimetype": "text/x-python",
   "name": "python",
   "nbconvert_exporter": "python",
   "pygments_lexer": "ipython3",
   "version": "3.11.7"
  }
 },
 "nbformat": 4,
 "nbformat_minor": 5
}
